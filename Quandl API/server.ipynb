{
 "cells": [
  {
   "cell_type": "code",
   "execution_count": null,
   "metadata": {},
   "outputs": [],
   "source": [
    "from flask import Flask, render_template\n",
    "import urllib\n",
    "import json"
   ]
  },
  {
   "cell_type": "code",
   "execution_count": null,
   "metadata": {},
   "outputs": [],
   "source": [
    "response = urllib.request.urlopen('https://s3.amazonaws.com/quandl-production-static/BSE+Descriptions/stocks.txt')\n",
    "rawdata = str(response.read()).split(\"\\\\n\")\n",
    "data = dict()\n",
    "for row in rawdata[1:]:\n",
    "    rowdata = row.split(\"|\")\n",
    "    if len(rowdata) < 2:\n",
    "        continue\n",
    "    data[rowdata[0]] = rowdata[1]"
   ]
  },
  {
   "cell_type": "code",
   "execution_count": null,
   "metadata": {},
   "outputs": [],
   "source": [
    "app = Flask(__name__, template_folder='')\n",
    "\n",
    "@app.route(\"/\")\n",
    "def index():\n",
    "    tickers = list(data.keys())\n",
    "    return render_template('index.html', tickers=tickers)\n",
    "\n",
    "@app.route(\"/getTickerValue/<string:name>\")\n",
    "def getTickerValue(name):    \n",
    "    res = str(urllib.request.urlopen('https://www.quandl.com/api/v3/datasets/BSE/'+data[name]+'.json?api_key=7-4MghJFTfu9DK8zUzVr').read())\n",
    "    json_res = json.loads(res[2:len(res)-1])\n",
    "    print(str(json_res[\"dataset\"][\"data\"][0][4]))\n",
    "    return str(json_res[\"dataset\"][\"data\"][0][4])\n",
    "    \n",
    "if __name__ == '__main__':\n",
    "    app.run()"
   ]
  },
  {
   "cell_type": "code",
   "execution_count": null,
   "metadata": {},
   "outputs": [],
   "source": [
    "getTickerValue('BOM533171')\n",
    "getTickerNames()\n"
   ]
  },
  {
   "cell_type": "code",
   "execution_count": null,
   "metadata": {},
   "outputs": [],
   "source": []
  },
  {
   "cell_type": "code",
   "execution_count": null,
   "metadata": {},
   "outputs": [],
   "source": []
  }
 ],
 "metadata": {
  "kernelspec": {
   "display_name": "Python 3",
   "language": "python",
   "name": "python3"
  },
  "language_info": {
   "codemirror_mode": {
    "name": "ipython",
    "version": 3
   },
   "file_extension": ".py",
   "mimetype": "text/x-python",
   "name": "python",
   "nbconvert_exporter": "python",
   "pygments_lexer": "ipython3",
   "version": "3.7.3"
  }
 },
 "nbformat": 4,
 "nbformat_minor": 2
}
